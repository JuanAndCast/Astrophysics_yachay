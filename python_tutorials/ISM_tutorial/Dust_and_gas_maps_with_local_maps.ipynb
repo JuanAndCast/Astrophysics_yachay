{
 "cells": [
  {
   "cell_type": "markdown",
   "id": "67d2769a",
   "metadata": {},
   "source": [
    "# Dust and gas maps\n",
    "\n",
    "Documentation on dust maps: https://dustmaps.readthedocs.io/en/latest/installation.html\n",
    "\n",
    "More info on dust maps: http://argonaut.skymaps.info/usage\n",
    "\n",
    "This tutorial gets E(B-V) from dust maps stored locally and converts the E(B-V) to Av.\n",
    "\n",
    "- One can download the maps and query locally,\n",
    "- It is possible to search just one coordinate,\n",
    "- Or to create a grid and get a map.\n",
    "\n"
   ]
  },
  {
   "cell_type": "code",
   "execution_count": null,
   "id": "27750b6d",
   "metadata": {},
   "outputs": [],
   "source": [
    "from astropy.coordinates import SkyCoord\n",
    "import astropy.units as units\n",
    "from astropy import units as u\n",
    "from astropy.coordinates import SkyCoord\n",
    "from astroquery.skyview import SkyView\n",
    "from astropy.wcs import WCS\n",
    "import numpy as np\n",
    "import matplotlib.pyplot as plt\n",
    "\n",
    "#local dust maps\n",
    "from dustmaps.bayestar import BayestarQuery\n",
    "\n",
    "# wb based dust maps\n",
    "from dustmaps.sfd import SFDWebQuery\n",
    "from dustmaps.bayestar import BayestarWebQuery\n"
   ]
  },
  {
   "cell_type": "code",
   "execution_count": null,
   "id": "5c05466a",
   "metadata": {},
   "outputs": [],
   "source": [
    "# define the path to the dust maps on the local computer\n",
    "# the dust_maps directory has the bayestar directory that contains the relevant dist map\n",
    "# dust_maps/bayestar/bayestar2019.h5\n",
    "\n",
    "from dustmaps.config import config\n",
    "config['data_dir'] = '/Users/denes/Teaching/Astrophysical_objects/Tutorials/dust_maps/'\n"
   ]
  },
  {
   "cell_type": "code",
   "execution_count": null,
   "id": "12159c81",
   "metadata": {},
   "outputs": [],
   "source": [
    "# query for one position\n",
    "\n",
    "bayestar = BayestarQuery(version='bayestar2019') # 'bayestar2019' is the default\n",
    "coords = SkyCoord(119.*units.deg, 3.*units.deg, distance=1000.*units.pc, frame='galactic')\n",
    " \n",
    "reddening = bayestar(coords, mode='median')\n",
    "print(reddening)"
   ]
  },
  {
   "cell_type": "markdown",
   "id": "8e94ddbe",
   "metadata": {},
   "source": [
    "## Plotting maps\n",
    "\n",
    "example from:\n",
    "https://dustmaps.readthedocs.io/en/latest/examples.html"
   ]
  },
  {
   "cell_type": "code",
   "execution_count": null,
   "id": "0e55a8b0",
   "metadata": {},
   "outputs": [],
   "source": [
    "# let's define the coordinate grid for the map\n",
    "\n",
    "ra0, dec0 = (302., -5.)\n",
    "ra = np.arange(ra0 - 4., ra0 + 4., 0.05)\n",
    "dec = np.arange(dec0 - 4., dec0 + 4., 0.05)\n",
    "ra, dec = np.meshgrid(ra, dec)\n",
    "coords = SkyCoord(ra*units.deg, dec*units.deg,\n",
    "                  distance=1.*units.kpc, frame='icrs')"
   ]
  },
  {
   "cell_type": "code",
   "execution_count": null,
   "id": "9c038558",
   "metadata": {},
   "outputs": [],
   "source": [
    "# get the data for the whole grid\n",
    "\n",
    "bayestar = BayestarQuery(max_samples=1)\n",
    "Av_bayestar = 2.742 * bayestar(coords)"
   ]
  },
  {
   "cell_type": "code",
   "execution_count": null,
   "id": "955dbf22",
   "metadata": {},
   "outputs": [],
   "source": [
    "fig = plt.figure()\n",
    "ax1 = fig.add_subplot(1,2,1)\n",
    "plt.imshow(Av_bayestar)\n",
    "ax1.invert_yaxis()"
   ]
  },
  {
   "cell_type": "code",
   "execution_count": null,
   "id": "3ebc5792",
   "metadata": {},
   "outputs": [],
   "source": []
  },
  {
   "cell_type": "code",
   "execution_count": null,
   "id": "712cbbe1",
   "metadata": {},
   "outputs": [],
   "source": []
  }
 ],
 "metadata": {
  "kernelspec": {
   "display_name": "Python 3 (ipykernel)",
   "language": "python",
   "name": "python3"
  },
  "language_info": {
   "codemirror_mode": {
    "name": "ipython",
    "version": 3
   },
   "file_extension": ".py",
   "mimetype": "text/x-python",
   "name": "python",
   "nbconvert_exporter": "python",
   "pygments_lexer": "ipython3",
   "version": "3.8.8"
  }
 },
 "nbformat": 4,
 "nbformat_minor": 5
}
