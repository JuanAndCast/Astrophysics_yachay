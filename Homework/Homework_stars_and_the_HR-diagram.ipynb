{
 "cells": [
  {
   "cell_type": "markdown",
   "id": "a6bfe524",
   "metadata": {},
   "source": [
    "# Homework 1: Sars and the Herzsprung-Russel Diagram\n",
    "\n",
    "The homework should be submitted as a python notebook. Please email the homework to hdenes@yachaytech.edu.ec by the **end of the day (midnight) by the 9th of October.**\n",
    "\n",
    "Total points: 20 (each literal is worth 1 point)\n",
    "\n",
    "You can contact me in person or in email if you have any questions.\n",
    "\n",
    "**Important notes:**\n",
    "\n",
    "- The tutorial notebook contains the methods that you can use to solve the homework.\n",
    "- To make the HR-diagram look correct make sure to invert the y-axis of the plot. Smaller magnitudes correspont to brighter stars. \n",
    "- Make sure that all plots show information in a reasonable way. E.g. no large white spaces in the plots and that histograms have appropriate bin sizes. \n",
    "- Make sure to appropriately lable the axes of all figures."
   ]
  },
  {
   "cell_type": "markdown",
   "id": "31dbbf60",
   "metadata": {},
   "source": [
    "## Compare the HR diagrams of 3 star clusters\n",
    "\n",
    "1. Download GAIA data for the following star clusters: NGC 2362, NGC 752 and the M67 \n",
    "    - Information on data access: https://astroquery.readthedocs.io/en/latest/gaia/gaia.html\n",
    "    - Detailed description on the data table: https://gea.esac.esa.int/archive/documentation/GDR1/datamodel/Ch1/gaia_source.html \n",
    "2. Isolate the stars that belong to the star clusters from the data table based on the proper motion of the star clusters. \n",
    "    - You can look up the proper motion of the star cluster in the CDS Simbad data base: https://simbad.cds.unistra.fr/simbad/ (Click on \"by identifier\" in the Queries column, then search the name of the cluster.)  \n",
    "3. What type of star clusters are these 3 clusters? Are they open clusters or globular clusters?\n",
    "4. Make a histogram of the proper motion of the stars in the star cluster. You can make a plot with two panels one for the R.A. component and one for the Dec component of the proper motion. \n",
    "    - Make sure to use different colours for the different star clusters. \n",
    "    - Make sure to define bins with equal spacing for all of the data. Tip: You can use numpy arange to define the edges of each bin. \n",
    "5. Make a histogram of the parallax of the proper motion selected stars. Display all 3 clusters in one figure. \n",
    "6. Calculate the distance and make a histogram of the calculated distances. Include data from all star clusters in one histogram. Which star cluster is the furthest?\n",
    "    - The distance can be calculated the following way: D = 1/p where p is the paralax in arcseconds. The paralax in the GAIA data table is in milliarcseconds. \n",
    "7. Calculate the G-band absolute magnitude of the stars in the star clusters. \n",
    "8. Plot an HR diagram with all 3 clusters, make sure that the main sequence of the clusters is aligned. Whit this we are able to directly compare the clusters. \n",
    "9. Which star cluster is the oldest and which star cluster is the youngest?\n",
    "10. At approximately which absolute G magnitude is the \"turning of point\" for each of the clusters.  \n",
    "\n",
    "## White dwarfs \n",
    "\n",
    "White dwarfs are very old stars, this means that they are more likely to be found in older galaxy clusters. \n",
    "\n",
    "11. Looking at the HR-diagram with all 3 clusters, which cluster seems to have the most white dwarf stars? \n",
    "12. Make an appropriate cut in the data of all 3 clusters to select only the white dwarf stars. How many white dwarf stars did you identify in each star cluster?\n",
    "    - Select data based on the absolute G-band magnitude and the colour.\n",
    "13. Make an HR-diagram only with the white dwarf stars of all 3 cluster. Make sure to use absolute G-band magnitudes for the y-axis. \n",
    "14. Make a proper motion diagram (pm_ra, pm_dec) of each galaxy cluster highlighting the white dwarfs in the clusters. \n",
    "\n",
    "## Multiple stellar systems and variable stars\n",
    "\n",
    "15. The data table has a column called 'non_single_star'. Use a selection cut to identify multiple stellar systems. How many multiple systems did you find in each star cluster?  \n",
    "16. Make one HR diagram where you display single stars in one colour (e.g. blue for all 3 clusters) and mark the multiple stellar systems in a different colour. \n",
    "17. Which part of the HR-diagram are the multiple stellar systems? \n",
    "\n",
    "18. The data table has a column called 'phot_variable_flag'. These are variable stars identified in the GAIA data.  Use a selection cut to identify variable stars. How many variable stars did you find in each star cluster?\n",
    "19. Make one HR diagram where you display the non variable stars in one colour (e.g. blue for all 3 clusters) and mark the variable stars in a different colour. \n",
    "20. Which part of the HR-diagram are the variable stars? \n"
   ]
  },
  {
   "cell_type": "code",
   "execution_count": null,
   "id": "f3013c4b",
   "metadata": {},
   "outputs": [],
   "source": []
  }
 ],
 "metadata": {
  "kernelspec": {
   "display_name": "Python 3 (ipykernel)",
   "language": "python",
   "name": "python3"
  },
  "language_info": {
   "codemirror_mode": {
    "name": "ipython",
    "version": 3
   },
   "file_extension": ".py",
   "mimetype": "text/x-python",
   "name": "python",
   "nbconvert_exporter": "python",
   "pygments_lexer": "ipython3",
   "version": "3.8.8"
  }
 },
 "nbformat": 4,
 "nbformat_minor": 5
}
