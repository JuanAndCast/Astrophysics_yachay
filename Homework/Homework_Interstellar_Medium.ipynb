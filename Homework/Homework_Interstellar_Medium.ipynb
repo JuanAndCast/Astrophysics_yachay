{
 "cells": [
  {
   "cell_type": "markdown",
   "id": "5eabd56d",
   "metadata": {},
   "source": [
    "# Homework 2: Interstellar Medium\n",
    "\n",
    "The homework should be submitted as a python notebook. Please email the homework to hdenes@yachaytech.edu.ec by by the <b>end of the day (midnight) by the 15th of November.</b>\n",
    "\n",
    "Total points: 20 (each literal is worth 1 point)\n",
    "\n",
    "You can contact me in person or in email if you have any questions.\n",
    "\n",
    "## Comparing Dust maps to atomic hydrogen column density\n",
    "\n",
    "The aim of this problem is to compare the interstellar dust extinction to the neutral hydrogen column density of the same region in the sky.\n",
    "\n",
    "### High latitude region\n",
    "1. Make a map of dust extinction ($A_v$) using the dustmaps python package (https://dustmaps.readthedocs.io/en/latest/) for the following region: R.A: 73.0$^{\\circ}$ Dec: 3.0$^{\\circ}$. Select the region so that it has a width of 10$^{\\circ}$ x 10$^{\\circ}$. Use data from the \"Bayestar\" dust map (Green et al. 2019 https://doi.org/10.3847/1538-4357/ab5362). \n",
    "2. Use the SkyCoord package to convert the Right Ascension and declination to Galactic longitude and lattitude. \n",
    "3. Get the neutral atomic hydrogen column density N(HI) map for the same region of the sky. For this you can use the astroquery python package and select the 'HI4PI' survey. Make sure to select the same region with the same pixel size. \n",
    "4. Make an overlay of the two data sets. Plot N(HI) as the contours. \n",
    "5. Make histograms of $A_v$ and N(HI). Compare the two distributions. What do you notice about the two distributions?\n",
    "6. Make a plot of $A_v$ vs. N(HI). Fit a linear relation to the data. How does the fit compare to the relation found in Güver and Özel 2009 (https://doi.org/10.1111/j.1365-2966.2009.15598.x): N(HI) = $A_v \\times 2.2 \\times 10^{21}$?\n",
    "7. What do you think is the reason for the differences between your fit and the results of Güver and Özel 2009?\n",
    "\n",
    "### Disk region\n",
    "8. Make a map of dust extinction ($A_v$) using the dustmaps python package for a region close to the disk of the Galaxy: RA: 287.0$^{\\circ}$, Dec:3.0$^{\\circ}$ \n",
    "9. Use the SkyCoord package to convert the Right Ascension and declination to Galactic longitude and lattitude. \n",
    "10. Get the neutral atomic hydrogen column density N(HI) map for the same region of the sky. For this you can use the astroquery python package and select the 'HI4PI' survey. Make sure to select the same region with the same pixel size.\n",
    "11. Make an overlay of the two data sets. Plot N(HI) as the contours. \n",
    "12. Make a plot of $A_v$ vs. N(HI). Fit a linear relation to the data. How does the fit compare to the relation found in Güver and Özel 2009: N(HI) = $A_v \\times 2.2 \\times 10^{21}$?\n",
    "13. Do you see any differences between the plots of the two different regions of the sky? How do the $A_v$ vs. N(HI) plots differ? What do you think is the reason for this?\n",
    "14. How does the amount of dust differ in the two regions? To compare make a histogram of $A_v$ for both regions. How is the distribution of $A_v$? Is the peak of the distribution at the same $A_v$ for the two regions?\n",
    "15. How does the amount of HI differ in the two regions? To compare make a histogram of N(HI) for both regions. How is the distribution of N(HI)? Is the peak of the distribution at the same N(HI) for the two regions?\n",
    "\n",
    "## Calculate the reddening for stars\n",
    "16. Calculate the reddening for the star Vega. Ra: 279.23473479$^{\\circ}$, Dec: 38.78368894$^{\\circ}$, distance: 7.68 pc, apparent magnitude (V): +0.026\n",
    "17. Calculate the reddening for the star Rigel. Ra: 78.63446708$^{\\circ}$, Dec: -8.20163836$^{\\circ}$, distance: 260 pc, apparent magnitude (V): 6.67\n",
    "18. How does the reddening differ between the two star?\n",
    "19. Calculate the reddening corrected absolute magnitude of Vega. \n",
    "20. Calculate the reddening corrected absolute magnitude of Rigel."
   ]
  },
  {
   "cell_type": "code",
   "execution_count": null,
   "id": "97eb30d9",
   "metadata": {},
   "outputs": [],
   "source": []
  }
 ],
 "metadata": {
  "kernelspec": {
   "display_name": "Python 3 (ipykernel)",
   "language": "python",
   "name": "python3"
  },
  "language_info": {
   "codemirror_mode": {
    "name": "ipython",
    "version": 3
   },
   "file_extension": ".py",
   "mimetype": "text/x-python",
   "name": "python",
   "nbconvert_exporter": "python",
   "pygments_lexer": "ipython3",
   "version": "3.8.8"
  }
 },
 "nbformat": 4,
 "nbformat_minor": 5
}
