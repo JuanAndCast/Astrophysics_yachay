{
 "cells": [
  {
   "cell_type": "markdown",
   "id": "a89ba320",
   "metadata": {},
   "source": [
    "# Calculating fractional ionisation\n",
    "\n",
    "<b> Exercise: </b> Consider hydrogen gas having the same density as the density of air under normal temperature and pressure (ρ = 1.29 kg m−3). Given the fact that the ionization potential χ of hydrogen is 13.6 eV, use the Saha equation  to calculate the fraction of ionization x at different temperatures T and make a plot of x versus T . \n",
    "\n",
    "### Notes:\n",
    "\n",
    "The ionisation temperature for Hydrogen is ~ 10000 K. On r \n",
    "\n",
    "Use the quadratic formula for expressing X and the ideal gas equation to calculate P from the density."
   ]
  },
  {
   "cell_type": "code",
   "execution_count": 1,
   "id": "7f766aae",
   "metadata": {},
   "outputs": [],
   "source": [
    "# import relevant packages\n",
    "\n",
    "import numpy as np\n",
    "import matplotlib as mpl\n",
    "import matplotlib.pyplot as plt"
   ]
  },
  {
   "cell_type": "code",
   "execution_count": 2,
   "id": "d9f22775",
   "metadata": {},
   "outputs": [
    {
     "name": "stdout",
     "output_type": "stream",
     "text": [
      "[1.60154033e-122 4.28187210e-122 1.13694102e-121 2.99834749e-121\n",
      " 7.85410470e-121 2.04367856e-120 5.28274604e-120 1.35664984e-119\n",
      " 3.46151272e-119 8.77572627e-119 2.21079067e-118 5.53461805e-118\n",
      " 1.37699019e-117 3.40490111e-117 8.36826766e-117 2.04432813e-116\n",
      " 4.96450382e-116 1.19849760e-115 2.87647164e-115 6.86388220e-115\n",
      " 1.62851289e-114 3.84192401e-114 9.01294536e-114 2.10265974e-113\n",
      " 4.87841944e-113 1.12569420e-112 2.58354395e-112 5.89777346e-112\n",
      " 1.33924341e-111 3.02518718e-111]\n"
     ]
    }
   ],
   "source": [
    "# define constants & variables \n",
    "\n",
    "me = 9.1093837015e-31 #kg \n",
    "kB = 1.380649e-23 #m^2 kg s^-2 K^-1\n",
    "h = 6.62607015e-34 #m^2 kg / s\n",
    "mH = 2.016 # [kg/kmol]   # molar mass of H2\n",
    "R = 8.31446261815324 * 1000 #J⋅K−1⋅kmol−1 # Ideal gas constant\n",
    "\n",
    "rho = 1.29 # kg m^-3\n",
    "#chi = 13.6 #eV\n",
    "chi = 2.17896e-18 #kg⋅m2⋅s−2\n",
    "\n",
    "T = np.arange(10, 40, 1) + 273.15  # K\n",
    "\n",
    "P = rho * R * T /(mH)\n",
    "\n",
    "#print(P)\n",
    "\n",
    "X_0 = ((2*np.pi*me)**(3/2))/(h**3) * ((kB*T)**(5/2))/P * np.exp((-1*chi)/(kB*T))\n",
    "\n",
    "#print(X_0)\n",
    "\n",
    "# solve with quadratic formula\n",
    "\n",
    "x1 = -X_0 + np.sqrt(X_0**2 + 4* X_0)/2   \n",
    "#x2 = -X_0 - np.sqrt(X_0**2 + 4* X_0)/2\n",
    "print(x1)\n",
    "#print(x2)"
   ]
  },
  {
   "cell_type": "code",
   "execution_count": 7,
   "id": "4b7c1571",
   "metadata": {},
   "outputs": [
    {
     "data": {
      "image/png": "[encoded data removed]",
      "text/plain": [
       "<Figure size 576x432 with 1 Axes>"
      ]
     },
     "metadata": {
      "needs_background": "light"
     },
     "output_type": "display_data"
    }
   ],
   "source": [
    "# make a simple plot \n",
    "\n",
    "fig, ax = plt.subplots(figsize=(8,6))\n",
    "\n",
    "plt.title('Fractional ionisation of H', fontsize=18)\n",
    "plt.plot(T, x1)\n",
    "\n",
    "ax.set_xlabel('T [K]', fontsize=18)\n",
    "ax.set_ylabel('x', fontsize=18)\n",
    "plt.xticks( fontsize=16)\n",
    "plt.yticks( fontsize=16)\n",
    "plt.show()"
   ]
  },
  {
   "cell_type": "code",
   "execution_count": null,
   "id": "235020cc",
   "metadata": {},
   "outputs": [],
   "source": []
  },
  {
   "cell_type": "code",
   "execution_count": null,
   "id": "05eef4de",
   "metadata": {},
   "outputs": [],
   "source": []
  },
  {
   "cell_type": "code",
   "execution_count": null,
   "id": "18bd93ba",
   "metadata": {},
   "outputs": [],
   "source": []
  },
  {
   "cell_type": "code",
   "execution_count": null,
   "id": "349aec4c",
   "metadata": {},
   "outputs": [],
   "source": []
  },
  {
   "cell_type": "code",
   "execution_count": null,
   "id": "4b35cb8b",
   "metadata": {},
   "outputs": [],
   "source": []
  },
  {
   "cell_type": "code",
   "execution_count": null,
   "id": "f448f2f0",
   "metadata": {},
   "outputs": [],
   "source": []
  }
 ],
 "metadata": {
  "kernelspec": {
   "display_name": "Python 3",
   "language": "python",
   "name": "python3"
  },
  "language_info": {
   "codemirror_mode": {
    "name": "ipython",
    "version": 3
   },
   "file_extension": ".py",
   "mimetype": "text/x-python",
   "name": "python",
   "nbconvert_exporter": "python",
   "pygments_lexer": "ipython3",
   "version": "3.8.8"
  }
 },
 "nbformat": 4,
 "nbformat_minor": 5
}
